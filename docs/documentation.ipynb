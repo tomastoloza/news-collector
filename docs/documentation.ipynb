{
 "cells": [
  {
   "cell_type": "markdown",
   "source": [
    "# News collector\n",
    "\n",
    "## Ejecucion:\n",
    "\n",
    "Para ejecutar\n",
    "\n",
    "Ejecutar `pip install -requirements.txt` para descargar las librerias externas usadas\n",
    "\n",
    "Ejecutar `main/menu.py`\n",
    "\n",
    "El sistema presenta un menú simple con las siguientes opciones:\n",
    "- Recolectar noticias\n",
    "- Crear un índice invertido a partir de la estructura de directorio y archivos xml y guardar en disco\n",
    "- Comprimir Lista de Apariciones\n",
    "- Realizar búsquedas\n",
    "\n",
    "\n",
    "## Decisiones de diseño\n",
    "#### Recolectar noticias\n",
    "Se decidió:\n",
    "    - Usar configparser para poder leer los diarios y secciones de `config.ini` \n",
    "\n",
    "\n",
    "\n",
    "    \n",
    "\n",
    "\n",
    "\n",
    "\n"
   ],
   "metadata": {
    "collapsed": false,
    "pycharm": {
     "name": "#%% md\n"
    }
   }
  }
 ],
 "metadata": {
  "kernelspec": {
   "display_name": "Python 3",
   "language": "python",
   "name": "python3"
  },
  "language_info": {
   "codemirror_mode": {
    "name": "ipython",
    "version": 2
   },
   "file_extension": ".py",
   "mimetype": "text/x-python",
   "name": "python",
   "nbconvert_exporter": "python",
   "pygments_lexer": "ipython2",
   "version": "2.7.6"
  },
  "pycharm": {
   "stem_cell": {
    "cell_type": "raw",
    "source": [
     "\n",
     "\n",
     "\n",
     "\n",
     "\n"
    ],
    "metadata": {
     "collapsed": false
    }
   }
  }
 },
 "nbformat": 4,
 "nbformat_minor": 0
}