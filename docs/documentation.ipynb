{
 "cells": [
  {
   "cell_type": "markdown",
   "source": [
    "# News collector\n",
    "\n",
    "## Descarga de Noticias\n",
    "\n",
    " - Descargar el zip https://drive.google.com/drive/folders/1PD3lC6V7ESWz891je4NVgCOp1fTcKLMs?usp=sharing\n",
    " - Ubicar la carpeta `rss` dentro de `resources/`\n",
    "\n",
    "## Ejecucion:\n",
    "\n",
    "    - Ejecutar `pip install -r requirements.txt` para descargar las librerias externas usadas\n"
   ],
   "metadata": {
    "collapsed": false,
    "pycharm": {
     "name": "#%% md\n"
    }
   }
  },
  {
   "cell_type": "code",
   "execution_count": 1,
   "outputs": [
    {
     "data": {
      "text/plain": "256"
     },
     "metadata": {},
     "output_type": "execute_result",
     "execution_count": 1
    }
   ],
   "source": [
    "import os\n",
    "os.system(\"pip install -requirements.txt\")"
   ],
   "metadata": {
    "collapsed": false,
    "pycharm": {
     "name": "#%%\n",
     "is_executing": false
    }
   }
  },
  {
   "cell_type": "markdown",
   "source": [
    "Ejecutar `main/menu.py`"
   ],
   "metadata": {
    "collapsed": false,
    "pycharm": {
     "name": "#%% md\n"
    }
   }
  },
  {
   "cell_type": "code",
   "execution_count": 2,
   "outputs": [
    {
     "name": "stdout",
     "text": [
      "Bienvenido al recolector de noticias\n"
     ],
     "output_type": "stream"
    },
    {
     "traceback": [
      "\u001b[0;31m---------------------------------------------------------------------------\u001b[0m",
      "\u001b[0;31mNameError\u001b[0m                                 Traceback (most recent call last)",
      "\u001b[0;32m<ipython-input-2-c0d0d1f5e606>\u001b[0m in \u001b[0;36m<module>\u001b[0;34m\u001b[0m\n\u001b[1;32m      1\u001b[0m \u001b[0;32mfrom\u001b[0m \u001b[0mmain\u001b[0m\u001b[0;34m.\u001b[0m\u001b[0mmenu\u001b[0m \u001b[0;32mimport\u001b[0m \u001b[0mMenu\u001b[0m\u001b[0;34m\u001b[0m\u001b[0;34m\u001b[0m\u001b[0m\n\u001b[0;32m----> 2\u001b[0;31m \u001b[0mMenu\u001b[0m\u001b[0;34m(\u001b[0m\u001b[0;34m)\u001b[0m\u001b[0;34m.\u001b[0m\u001b[0mrun_menu\u001b[0m\u001b[0;34m(\u001b[0m\u001b[0;34m)\u001b[0m\u001b[0;34m\u001b[0m\u001b[0;34m\u001b[0m\u001b[0m\n\u001b[0m\u001b[1;32m      3\u001b[0m \u001b[0;34m\u001b[0m\u001b[0m\n",
      "\u001b[0;32m~/PycharmProjects/news-collector/main/menu.py\u001b[0m in \u001b[0;36mrun_menu\u001b[0;34m(self)\u001b[0m\n\u001b[1;32m     50\u001b[0m                 \u001b[0;32mcontinue\u001b[0m\u001b[0;34m\u001b[0m\u001b[0;34m\u001b[0m\u001b[0m\n\u001b[1;32m     51\u001b[0m             \u001b[0;32mif\u001b[0m \u001b[0muser_input\u001b[0m \u001b[0;34m==\u001b[0m \u001b[0;34m''\u001b[0m\u001b[0;34m:\u001b[0m\u001b[0;34m\u001b[0m\u001b[0;34m\u001b[0m\u001b[0m\n\u001b[0;32m---> 52\u001b[0;31m                 \u001b[0mexit\u001b[0m\u001b[0;34m(\u001b[0m\u001b[0;34m)\u001b[0m\u001b[0;34m\u001b[0m\u001b[0;34m\u001b[0m\u001b[0m\n\u001b[0m\u001b[1;32m     53\u001b[0m \u001b[0;34m\u001b[0m\u001b[0m\n\u001b[1;32m     54\u001b[0m     \u001b[0;32mdef\u001b[0m \u001b[0msearch\u001b[0m\u001b[0;34m(\u001b[0m\u001b[0mself\u001b[0m\u001b[0;34m)\u001b[0m\u001b[0;34m:\u001b[0m\u001b[0;34m\u001b[0m\u001b[0;34m\u001b[0m\u001b[0m\n",
      "\u001b[0;31mNameError\u001b[0m: name 'exit' is not defined"
     ],
     "ename": "NameError",
     "evalue": "name 'exit' is not defined",
     "output_type": "error"
    }
   ],
   "source": [
    "from main.menu import Menu\n",
    "Menu().run_menu()"
   ],
   "metadata": {
    "collapsed": false,
    "pycharm": {
     "name": "#%%\n",
     "is_executing": false
    }
   }
  },
  {
   "cell_type": "markdown",
   "source": [
    "## Decisiones de diseño\n",
    "El sistema presenta un menú simple con las siguientes opciones:\n",
    "- Recolectar noticias\n",
    "- Crear un índice invertido a partir de la estructura de directorio y archivos xml y guardar en disco\n",
    "- Comprimir Lista de Apariciones\n",
    "    - Sin saltos\n",
    "    - Con saltos\n",
    "- Realizar búsquedas\n",
    "    - Realizar busqueda con indice sin comprimir\n",
    "    - Realizar busqueda con indice comprimido\n",
    "\n",
    "### Recolectar noticias\n",
    "Se decidió:\n",
    "    - Usar configparser para poder leer los diarios y secciones de `config.ini` \n",
    "    - Se itera cada URL buscando `<item>` y se consulta si existe\n",
    "    - Los xml se guardan en `resources/rss` siguiendo la estructura de `medio/seccion`\n",
    "    \n",
    "### Indexador\n",
    "Se decidió:\n",
    "    - Utilizar archivos csv para el BSBI\n",
    "    - No brindar la opcion de manejar el indice invertido ya que es mucha información manejada en memoria.\n",
    "      Por lo tanto, solo brindar la opcion de crear el indice invertido desde los xml y guardarlo en disco\n",
    "    \n",
    "    \n",
    "### Compresor\n",
    "Se decidió:\n",
    "    - Guardar en un archivo `.csv` el termino, la posicion en el string de bytes, la cantidad de documentos y el tamaño\n",
    "    - Brindar la opcion de comprimir\n",
    "        - Con saltos: Guardar en un `.txt` la cadena de bytes con todas las apariciones de cada term\n",
    "        - Sin saltos: Guardar en un txt el primer doc de cada aparicion de cada termino y despues la diferencia hasta el proximo documento\n",
    "    - Metodos de busqueda\n",
    "        - Se encargan de recibir un `term_id`, lo buscan en el csv, decodifican el archivo en bytes y devuelven la lista de apariciones\n",
    "### Buscador\n",
    "Se decidió:\n",
    "    - Realizar la busqueda por strings en los archivos csv generados, para evitar el uso del indice invertido en memoria\n"
   ],
   "metadata": {
    "collapsed": false
   }
  }
 ],
 "metadata": {
  "kernelspec": {
   "display_name": "Python 3",
   "language": "python",
   "name": "python3"
  },
  "language_info": {
   "codemirror_mode": {
    "name": "ipython",
    "version": 2
   },
   "file_extension": ".py",
   "mimetype": "text/x-python",
   "name": "python",
   "nbconvert_exporter": "python",
   "pygments_lexer": "ipython2",
   "version": "2.7.6"
  },
  "pycharm": {
   "stem_cell": {
    "cell_type": "raw",
    "source": [],
    "metadata": {
     "collapsed": false
    }
   }
  }
 },
 "nbformat": 4,
 "nbformat_minor": 0
}