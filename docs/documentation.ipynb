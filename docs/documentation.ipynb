{
 "cells": [
  {
   "cell_type": "markdown",
   "source": [
    "# News collector\n",
    "\n",
    "El sistema presenta un menú simple con las siguientes opciones:\n",
    "- Recolectar noticias\n",
    "- Crear Índice Invertido\n",
    "    - Crear un índice invertido a partir de la estructura de directorio y archivos xml \n",
    "    -  Guardar en disco todo el índice invertido. \n",
    "    -  Cargar en memoria un índice invertido previamente salvado.\n",
    "- Comprimir Lista de Apariciones\n",
    "- Realizar búsquedas\n",
    "\n",
    "\n",
    "## Decisiones de diseño\n",
    "#### Recolectar noticias\n",
    "\n",
    "\n",
    "    \n",
    "\n",
    "\n",
    "\n",
    "\n"
   ],
   "metadata": {
    "collapsed": false,
    "pycharm": {
     "name": "#%% md\n"
    }
   }
  }
 ],
 "metadata": {
  "kernelspec": {
   "display_name": "Python 3",
   "language": "python",
   "name": "python3"
  },
  "language_info": {
   "codemirror_mode": {
    "name": "ipython",
    "version": 2
   },
   "file_extension": ".py",
   "mimetype": "text/x-python",
   "name": "python",
   "nbconvert_exporter": "python",
   "pygments_lexer": "ipython2",
   "version": "2.7.6"
  },
  "pycharm": {
   "stem_cell": {
    "cell_type": "raw",
    "source": [
     "\n",
     "\n",
     "\n",
     "\n",
     "\n"
    ],
    "metadata": {
     "collapsed": false
    }
   }
  }
 },
 "nbformat": 4,
 "nbformat_minor": 0
}